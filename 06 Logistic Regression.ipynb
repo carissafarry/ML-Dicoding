{
    "cells": [
        {
            "metadata": {},
            "cell_type": "code",
            "source": "import types\nimport pandas as pd\nfrom botocore.client import Config\nimport ibm_boto3\n\ndef __iter__(self): return 0\n\n# @hidden_cell\n# The following code accesses a file in your IBM Cloud Object Storage. It includes your credentials.\n# You might want to remove those credentials before you share the notebook.\nclient_1caf7c69a1e046cbb74de6812fc975d6 = ibm_boto3.client(service_name='s3',\n    ibm_api_key_id='3Bwomte_QO1hWqYGiEOgj-2zC4jwZmPB16VmZTF7imyl',\n    ibm_auth_endpoint=\"https://iam.cloud.ibm.com/oidc/token\",\n    config=Config(signature_version='oauth'),\n    endpoint_url='https://s3.eu-geo.objectstorage.service.networklayer.com')\n\nbody = client_1caf7c69a1e046cbb74de6812fc975d6.get_object(Bucket='machinelearningdicoding-donotdelete-pr-ypqn86qbi4dqfk',Key='Social_Network_Ads.csv')['Body']\n# add missing __iter__ method, so pandas accepts body as file-like object\nif not hasattr(body, \"__iter__\"): body.__iter__ = types.MethodType( __iter__, body )\n\ndf = pd.read_csv(body)\ndf.head()",
            "execution_count": 13,
            "outputs": [
                {
                    "output_type": "execute_result",
                    "execution_count": 13,
                    "data": {
                        "text/plain": "    User ID  Gender  Age  EstimatedSalary  Purchased\n0  15624510    Male   19            19000          0\n1  15810944    Male   35            20000          0\n2  15668575  Female   26            43000          0\n3  15603246  Female   27            57000          0\n4  15804002    Male   19            76000          0",
                        "text/html": "<div>\n<style scoped>\n    .dataframe tbody tr th:only-of-type {\n        vertical-align: middle;\n    }\n\n    .dataframe tbody tr th {\n        vertical-align: top;\n    }\n\n    .dataframe thead th {\n        text-align: right;\n    }\n</style>\n<table border=\"1\" class=\"dataframe\">\n  <thead>\n    <tr style=\"text-align: right;\">\n      <th></th>\n      <th>User ID</th>\n      <th>Gender</th>\n      <th>Age</th>\n      <th>EstimatedSalary</th>\n      <th>Purchased</th>\n    </tr>\n  </thead>\n  <tbody>\n    <tr>\n      <th>0</th>\n      <td>15624510</td>\n      <td>Male</td>\n      <td>19</td>\n      <td>19000</td>\n      <td>0</td>\n    </tr>\n    <tr>\n      <th>1</th>\n      <td>15810944</td>\n      <td>Male</td>\n      <td>35</td>\n      <td>20000</td>\n      <td>0</td>\n    </tr>\n    <tr>\n      <th>2</th>\n      <td>15668575</td>\n      <td>Female</td>\n      <td>26</td>\n      <td>43000</td>\n      <td>0</td>\n    </tr>\n    <tr>\n      <th>3</th>\n      <td>15603246</td>\n      <td>Female</td>\n      <td>27</td>\n      <td>57000</td>\n      <td>0</td>\n    </tr>\n    <tr>\n      <th>4</th>\n      <td>15804002</td>\n      <td>Male</td>\n      <td>19</td>\n      <td>76000</td>\n      <td>0</td>\n    </tr>\n  </tbody>\n</table>\n</div>"
                    },
                    "metadata": {}
                }
            ]
        },
        {
            "metadata": {},
            "cell_type": "code",
            "source": "# melihat nilai kosong\n# df.info()\n\n# menghapus atribut tak penting untuk dipelajari oleh model\ndata = df.drop(columns=['User ID'])\n\n# membuat data dummies dari dataset\ndata = pd.get_dummies(data)\ndata",
            "execution_count": 32,
            "outputs": [
                {
                    "output_type": "execute_result",
                    "execution_count": 32,
                    "data": {
                        "text/plain": "     Age  EstimatedSalary  Purchased  Gender_Female  Gender_Male\n0     19            19000          0              0            1\n1     35            20000          0              0            1\n2     26            43000          0              1            0\n3     27            57000          0              1            0\n4     19            76000          0              0            1\n..   ...              ...        ...            ...          ...\n395   46            41000          1              1            0\n396   51            23000          1              0            1\n397   50            20000          1              1            0\n398   36            33000          0              0            1\n399   49            36000          1              1            0\n\n[400 rows x 5 columns]",
                        "text/html": "<div>\n<style scoped>\n    .dataframe tbody tr th:only-of-type {\n        vertical-align: middle;\n    }\n\n    .dataframe tbody tr th {\n        vertical-align: top;\n    }\n\n    .dataframe thead th {\n        text-align: right;\n    }\n</style>\n<table border=\"1\" class=\"dataframe\">\n  <thead>\n    <tr style=\"text-align: right;\">\n      <th></th>\n      <th>Age</th>\n      <th>EstimatedSalary</th>\n      <th>Purchased</th>\n      <th>Gender_Female</th>\n      <th>Gender_Male</th>\n    </tr>\n  </thead>\n  <tbody>\n    <tr>\n      <th>0</th>\n      <td>19</td>\n      <td>19000</td>\n      <td>0</td>\n      <td>0</td>\n      <td>1</td>\n    </tr>\n    <tr>\n      <th>1</th>\n      <td>35</td>\n      <td>20000</td>\n      <td>0</td>\n      <td>0</td>\n      <td>1</td>\n    </tr>\n    <tr>\n      <th>2</th>\n      <td>26</td>\n      <td>43000</td>\n      <td>0</td>\n      <td>1</td>\n      <td>0</td>\n    </tr>\n    <tr>\n      <th>3</th>\n      <td>27</td>\n      <td>57000</td>\n      <td>0</td>\n      <td>1</td>\n      <td>0</td>\n    </tr>\n    <tr>\n      <th>4</th>\n      <td>19</td>\n      <td>76000</td>\n      <td>0</td>\n      <td>0</td>\n      <td>1</td>\n    </tr>\n    <tr>\n      <th>...</th>\n      <td>...</td>\n      <td>...</td>\n      <td>...</td>\n      <td>...</td>\n      <td>...</td>\n    </tr>\n    <tr>\n      <th>395</th>\n      <td>46</td>\n      <td>41000</td>\n      <td>1</td>\n      <td>1</td>\n      <td>0</td>\n    </tr>\n    <tr>\n      <th>396</th>\n      <td>51</td>\n      <td>23000</td>\n      <td>1</td>\n      <td>0</td>\n      <td>1</td>\n    </tr>\n    <tr>\n      <th>397</th>\n      <td>50</td>\n      <td>20000</td>\n      <td>1</td>\n      <td>1</td>\n      <td>0</td>\n    </tr>\n    <tr>\n      <th>398</th>\n      <td>36</td>\n      <td>33000</td>\n      <td>0</td>\n      <td>0</td>\n      <td>1</td>\n    </tr>\n    <tr>\n      <th>399</th>\n      <td>49</td>\n      <td>36000</td>\n      <td>1</td>\n      <td>1</td>\n      <td>0</td>\n    </tr>\n  </tbody>\n</table>\n<p>400 rows \u00d7 5 columns</p>\n</div>"
                    },
                    "metadata": {}
                }
            ]
        },
        {
            "metadata": {},
            "cell_type": "code",
            "source": "# pisahkan atribut dan label / class\npredictions = ['Age' , 'EstimatedSalary' , 'Gender_Female' , 'Gender_Male']\nx = data[predictions]\ny = data['Purchased']",
            "execution_count": 39,
            "outputs": []
        },
        {
            "metadata": {},
            "cell_type": "code",
            "source": "# melakukan data preparation standardization\n# y\nfrom sklearn.preprocessing import StandardScaler\nscaler = StandardScaler()\nscaler.fit(x)\nscaled_data = scaler.transform(x)\n\nscaled_data = pd.DataFrame(scaled_data, columns=x.columns)\nscaled_data.head()",
            "execution_count": 42,
            "outputs": [
                {
                    "output_type": "execute_result",
                    "execution_count": 42,
                    "data": {
                        "text/plain": "        Age  EstimatedSalary  Gender_Female  Gender_Male\n0 -1.781797        -1.490046      -1.020204     1.020204\n1 -0.253587        -1.460681      -1.020204     1.020204\n2 -1.113206        -0.785290       0.980196    -0.980196\n3 -1.017692        -0.374182       0.980196    -0.980196\n4 -1.781797         0.183751      -1.020204     1.020204",
                        "text/html": "<div>\n<style scoped>\n    .dataframe tbody tr th:only-of-type {\n        vertical-align: middle;\n    }\n\n    .dataframe tbody tr th {\n        vertical-align: top;\n    }\n\n    .dataframe thead th {\n        text-align: right;\n    }\n</style>\n<table border=\"1\" class=\"dataframe\">\n  <thead>\n    <tr style=\"text-align: right;\">\n      <th></th>\n      <th>Age</th>\n      <th>EstimatedSalary</th>\n      <th>Gender_Female</th>\n      <th>Gender_Male</th>\n    </tr>\n  </thead>\n  <tbody>\n    <tr>\n      <th>0</th>\n      <td>-1.781797</td>\n      <td>-1.490046</td>\n      <td>-1.020204</td>\n      <td>1.020204</td>\n    </tr>\n    <tr>\n      <th>1</th>\n      <td>-0.253587</td>\n      <td>-1.460681</td>\n      <td>-1.020204</td>\n      <td>1.020204</td>\n    </tr>\n    <tr>\n      <th>2</th>\n      <td>-1.113206</td>\n      <td>-0.785290</td>\n      <td>0.980196</td>\n      <td>-0.980196</td>\n    </tr>\n    <tr>\n      <th>3</th>\n      <td>-1.017692</td>\n      <td>-0.374182</td>\n      <td>0.980196</td>\n      <td>-0.980196</td>\n    </tr>\n    <tr>\n      <th>4</th>\n      <td>-1.781797</td>\n      <td>0.183751</td>\n      <td>-1.020204</td>\n      <td>1.020204</td>\n    </tr>\n  </tbody>\n</table>\n</div>"
                    },
                    "metadata": {}
                }
            ]
        },
        {
            "metadata": {},
            "cell_type": "code",
            "source": "from sklearn.model_selection import train_test_split\n\n# bagi data menjadi train dan test untuk setiap atribut dan label\nx_train, x_test, y_train, y_test = train_test_split(scaled_data, y, test_size=0.2, random_state=1)",
            "execution_count": 44,
            "outputs": []
        },
        {
            "metadata": {},
            "cell_type": "code",
            "source": "# membuat model\n\nfrom sklearn import linear_model\n\n# latih model dengan fungsi fit\nmodel = linear_model.LogisticRegression()\nmodel.fit(x_train, y_train)",
            "execution_count": 45,
            "outputs": [
                {
                    "output_type": "execute_result",
                    "execution_count": 45,
                    "data": {
                        "text/plain": "LogisticRegression()"
                    },
                    "metadata": {}
                }
            ]
        },
        {
            "metadata": {},
            "cell_type": "code",
            "source": "# uji akurasi model pada test set dengan fungsi score()\n\nfrom sklearn.preprocessing import StandardScaler\n\n# uji akurasi model\nmodel.score(x_test, y_test)",
            "execution_count": 46,
            "outputs": [
                {
                    "output_type": "execute_result",
                    "execution_count": 46,
                    "data": {
                        "text/plain": "0.825"
                    },
                    "metadata": {}
                }
            ]
        }
    ],
    "metadata": {
        "kernelspec": {
            "name": "python3",
            "display_name": "Python 3.7",
            "language": "python"
        },
        "language_info": {
            "name": "python",
            "version": "3.7.9",
            "mimetype": "text/x-python",
            "codemirror_mode": {
                "name": "ipython",
                "version": 3
            },
            "pygments_lexer": "ipython3",
            "nbconvert_exporter": "python",
            "file_extension": ".py"
        }
    },
    "nbformat": 4,
    "nbformat_minor": 1
}