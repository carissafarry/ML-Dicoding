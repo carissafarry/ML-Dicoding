{
    "cells": [
        {
            "metadata": {},
            "cell_type": "code",
            "source": "from sklearn import datasets\nfrom sklearn.model_selection import train_test_split\n\niris = datasets.load_iris()\natribut = iris.data\nlabel = iris.target\n\n# bagi dataset menjadi train set dan test set\nx_train, x_test, y_train, y_test = train_test_split(atribut, label, test_size = 0.2)",
            "execution_count": 14,
            "outputs": []
        },
        {
            "metadata": {},
            "cell_type": "code",
            "source": "# mencoba menggunakan model decision tree dan hitung akurasinya\n\nfrom sklearn import tree\n\ndecision_tree = tree.DecisionTreeClassifier()\nmodel_pertama = decision_tree.fit(x_train, y_train)\nmodel_pertama.score(x_test, y_test)",
            "execution_count": 15,
            "outputs": [
                {
                    "output_type": "execute_result",
                    "execution_count": 15,
                    "data": {
                        "text/plain": "0.9666666666666667"
                    },
                    "metadata": {}
                }
            ]
        },
        {
            "metadata": {},
            "cell_type": "code",
            "source": "# mencoba menggunakan PCA dan hitung varians\n\nfrom sklearn.decomposition import PCA\n\n# membuat objek PCA dengan 4 principal component\npca = PCA(n_components=4)\n\n# mengaplikasikan PCA pada dataset\npca_attributes = pca.fit_transform(x_train)\n\n# melihat varians dari tiap attribute\npca.explained_variance_ratio_",
            "execution_count": 16,
            "outputs": [
                {
                    "output_type": "execute_result",
                    "execution_count": 16,
                    "data": {
                        "text/plain": "array([0.92428942, 0.05335362, 0.01736754, 0.00498942])"
                    },
                    "metadata": {}
                }
            ]
        },
        {
            "metadata": {},
            "cell_type": "code",
            "source": "# mengambil 2 komponen PCA terbaik \n\npca = PCA(n_components=2)\nx_train_pca = pca.fit_transform(x_train)\nx_test_pca = pca.fit_transform(x_test)",
            "execution_count": 17,
            "outputs": []
        },
        {
            "metadata": {},
            "cell_type": "code",
            "source": "# uji akurasi classifier dengan decision tree\n\nmodel2 = decision_tree.fit(x_train_pca, y_train)\nmodel2.score(x_test_pca, y_test)",
            "execution_count": 18,
            "outputs": [
                {
                    "output_type": "execute_result",
                    "execution_count": 18,
                    "data": {
                        "text/plain": "0.8666666666666667"
                    },
                    "metadata": {}
                }
            ]
        }
    ],
    "metadata": {
        "kernelspec": {
            "name": "python3",
            "display_name": "Python 3.7",
            "language": "python"
        },
        "language_info": {
            "name": "python",
            "version": "3.7.9",
            "mimetype": "text/x-python",
            "codemirror_mode": {
                "name": "ipython",
                "version": 3
            },
            "pygments_lexer": "ipython3",
            "nbconvert_exporter": "python",
            "file_extension": ".py"
        }
    },
    "nbformat": 4,
    "nbformat_minor": 1
}