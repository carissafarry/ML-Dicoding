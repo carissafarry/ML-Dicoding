{
    "cells": [
        {
            "metadata": {},
            "cell_type": "code",
            "source": "import sklearn\nfrom sklearn import datasets\n\n# load iris dataset\niris = datasets.load_iris()\n\n# pisahkan atribut dan label pada iris dataset\nx = iris.data\ny = iris.target",
            "execution_count": 2,
            "outputs": []
        },
        {
            "metadata": {},
            "cell_type": "code",
            "source": "from sklearn.model_selection import train_test_split\n\n# membagi dataset menjadi training dan testing\nx_train, x_test, y_train, y_test = train_test_split(x, y, test_size = 0.2)\n# print(x_train)\nprint(len(x_test))\nprint(len(y_test))",
            "execution_count": 10,
            "outputs": [
                {
                    "output_type": "stream",
                    "text": "30\n30\n",
                    "name": "stdout"
                }
            ]
        },
        {
            "metadata": {},
            "cell_type": "code",
            "source": "",
            "execution_count": null,
            "outputs": []
        }
    ],
    "metadata": {
        "kernelspec": {
            "name": "python3",
            "display_name": "Python 3.7",
            "language": "python"
        },
        "language_info": {
            "name": "python",
            "version": "3.7.9",
            "mimetype": "text/x-python",
            "codemirror_mode": {
                "name": "ipython",
                "version": 3
            },
            "pygments_lexer": "ipython3",
            "nbconvert_exporter": "python",
            "file_extension": ".py"
        }
    },
    "nbformat": 4,
    "nbformat_minor": 1
}