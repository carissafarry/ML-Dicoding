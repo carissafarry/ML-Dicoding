{
    "cells": [
        {
            "cell_type": "code",
            "execution_count": 2,
            "metadata": {},
            "outputs": [],
            "source": "import sklearn\nfrom sklearn import datasets\n\n# load iris dataset\niris = datasets.load_iris()\n\n# pisahkan atribut dan label pada iris dataset\nx = iris.data\ny = iris.target"
        },
        {
            "cell_type": "code",
            "execution_count": 10,
            "metadata": {},
            "outputs": [
                {
                    "name": "stdout",
                    "output_type": "stream",
                    "text": "30\n30\n"
                }
            ],
            "source": "from sklearn.model_selection import train_test_split\n\n# membagi dataset menjadi training dan testing\nx_train, x_test, y_train, y_test = train_test_split(x, y, test_size = 0.2)\n# print(x_train)\nprint(len(x_test))\nprint(len(y_test))"
        },
        {
            "cell_type": "code",
            "execution_count": null,
            "metadata": {},
            "outputs": [],
            "source": ""
        }
    ],
    "metadata": {
        "kernelspec": {
            "display_name": "Python 3.7",
            "language": "python",
            "name": "python3"
        },
        "language_info": {
            "codemirror_mode": {
                "name": "ipython",
                "version": 3
            },
            "file_extension": ".py",
            "mimetype": "text/x-python",
            "name": "python",
            "nbconvert_exporter": "python",
            "pygments_lexer": "ipython3",
            "version": "3.7.9"
        }
    },
    "nbformat": 4,
    "nbformat_minor": 1
}