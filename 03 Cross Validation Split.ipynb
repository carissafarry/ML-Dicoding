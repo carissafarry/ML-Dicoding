{
    "cells": [
        {
            "metadata": {},
            "cell_type": "code",
            "source": "import sklearn\nfrom sklearn import datasets\n\n# load iris dataset\niris = datasets.load_iris()\n\n# mendefinisikan atribut dan label pada dataset\nx = iris.data\ny = iris.target",
            "execution_count": 4,
            "outputs": []
        },
        {
            "metadata": {},
            "cell_type": "code",
            "source": "from sklearn import tree\n\n# membuat model dengan decision tree classifier\nclf = tree.DecisionTreeClassifier()",
            "execution_count": 5,
            "outputs": []
        },
        {
            "metadata": {},
            "cell_type": "code",
            "source": "from sklearn.model_selection import cross_val_score\n\n# mengevaluasi performa model dengan cross_val_score\nscores = cross_val_score(clf, x, y, cv=5)",
            "execution_count": 7,
            "outputs": []
        },
        {
            "metadata": {},
            "cell_type": "code",
            "source": "# mereturn nilai berupa larik atau array yang terdiri dari akurasi pengujian tiap fold pada dataset\nscores\n# nilai yang baik yaitu 0.85 - 0.99",
            "execution_count": 10,
            "outputs": [
                {
                    "output_type": "execute_result",
                    "execution_count": 10,
                    "data": {
                        "text/plain": "array([0.96666667, 0.96666667, 0.9       , 1.        , 1.        ])"
                    },
                    "metadata": {}
                }
            ]
        }
    ],
    "metadata": {
        "kernelspec": {
            "name": "python3",
            "display_name": "Python 3.7",
            "language": "python"
        },
        "language_info": {
            "name": "python",
            "version": "3.7.9",
            "mimetype": "text/x-python",
            "codemirror_mode": {
                "name": "ipython",
                "version": 3
            },
            "pygments_lexer": "ipython3",
            "nbconvert_exporter": "python",
            "file_extension": ".py"
        }
    },
    "nbformat": 4,
    "nbformat_minor": 1
}